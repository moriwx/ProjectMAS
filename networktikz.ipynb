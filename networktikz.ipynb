{
 "cells": [
  {
   "cell_type": "markdown",
   "id": "enormous-beijing",
   "metadata": {},
   "source": [
    "https://github.com/HarisIqbal88/PlotNeuralNet"
   ]
  },
  {
   "cell_type": "code",
   "execution_count": 1,
   "id": "mounted-concern",
   "metadata": {},
   "outputs": [],
   "source": [
    "from tikzeng import *"
   ]
  },
  {
   "cell_type": "code",
   "execution_count": null,
   "id": "tamil-vancouver",
   "metadata": {},
   "outputs": [],
   "source": [
    "to_generate(arch, 'test.tex')"
   ]
  },
  {
   "cell_type": "code",
   "execution_count": 5,
   "id": "successful-commissioner",
   "metadata": {},
   "outputs": [
    {
     "name": "stdout",
     "output_type": "stream",
     "text": [
      "\\pic[shift={(0,0,0)}] at (0,0,0) \n",
      "    {Box={\n",
      "        name=conv1,\n",
      "        caption= ,\n",
      "        xlabel={{280, }},\n",
      "        zlabel=32,\n",
      "        fill=\\ConvColor,\n",
      "        height=32,\n",
      "        width=2,\n",
      "        depth=64\n",
      "        }\n",
      "    };\n",
      "\\pic[shift={ (0,0,0) }] at (conv1-east) \n",
      "    {Box={\n",
      "        name=pool1,\n",
      "        caption= ,\n",
      "        fill=\\PoolColor,\n",
      "        opacity=0.5,\n",
      "        height=32,\n",
      "        width=2,\n",
      "        depth=32\n",
      "        }\n",
      "    };\n",
      "\\pic[shift={(2,0,0)}] at (pool1-east) \n",
      "    {Box={\n",
      "        name=conv2,\n",
      "        caption= ,\n",
      "        xlabel={{64, }},\n",
      "        zlabel=128,\n",
      "        fill=\\ConvColor,\n",
      "        height=32,\n",
      "        width=2,\n",
      "        depth=32\n",
      "        }\n",
      "    };\n",
      "\\draw [connection]  (pool1-east)    -- node {\\midarrow} (conv2-west);\n",
      "\\pic[shift={ (0,0,0) }] at (conv2-east) \n",
      "    {Box={\n",
      "        name=pool2,\n",
      "        caption= ,\n",
      "        fill=\\PoolColor,\n",
      "        opacity=0.5,\n",
      "        height=28,\n",
      "        width=1,\n",
      "        depth=28\n",
      "        }\n",
      "    };\n",
      "\\pic[shift={(2,0,0)}] at (pool2-east) \n",
      "    {Box={\n",
      "        name=soft1,\n",
      "        caption=SOFT,\n",
      "        xlabel={{\" \",\"dummy\"}},\n",
      "        zlabel=10,\n",
      "        fill=\\SoftmaxColor,\n",
      "        opacity=0.8,\n",
      "        height=3,\n",
      "        width=1.5,\n",
      "        depth=25\n",
      "        }\n",
      "    };\n",
      "\\draw [connection]  (pool2-east)    -- node {\\midarrow} (soft1-west);\n"
     ]
    }
   ],
   "source": [
    "arch = [\n",
    "#     to_head('.'),\n",
    "#     to_cor(),\n",
    "#     to_begin(),\n",
    "    to_Conv(\"conv1\", 32, 280, offset=\"(0,0,0)\", to=\"(0,0,0)\", height=32, depth=64, width=2),\n",
    "    to_Pool(\"pool1\", offset=\"(0,0,0)\", to=\"(conv1-east)\", width=2, height=32, depth=32),\n",
    "\n",
    "    to_Conv(\"conv2\", 128, 64, offset=\"(2,0,0)\", to=\"(pool1-east)\", height=32, depth=32, width=2 ),\n",
    "    to_connection( \"pool1\", \"conv2\"),\n",
    "    to_Pool(\"pool2\", offset=\"(0,0,0)\", to=\"(conv2-east)\", height=28, depth=28, width=1),\n",
    "\n",
    "    to_SoftMax(\"soft1\", 10 ,\"(2,0,0)\", \"(pool2-east)\", caption=\"SOFT\"  ),\n",
    "    to_connection(\"pool2\", \"soft1\"),\n",
    "#     to_end()\n",
    "    ]\n",
    "for c in arch: print(c)"
   ]
  },
  {
   "cell_type": "code",
   "execution_count": null,
   "id": "rental-barbados",
   "metadata": {},
   "outputs": [],
   "source": []
  }
 ],
 "metadata": {
  "kernelspec": {
   "display_name": "Python 3",
   "language": "python",
   "name": "python3"
  },
  "language_info": {
   "codemirror_mode": {
    "name": "ipython",
    "version": 3
   },
   "file_extension": ".py",
   "mimetype": "text/x-python",
   "name": "python",
   "nbconvert_exporter": "python",
   "pygments_lexer": "ipython3",
   "version": "3.8.8"
  }
 },
 "nbformat": 4,
 "nbformat_minor": 5
}
